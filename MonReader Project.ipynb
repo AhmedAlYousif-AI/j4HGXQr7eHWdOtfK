{
  "nbformat": 4,
  "nbformat_minor": 0,
  "metadata": {
    "colab": {
      "provenance": [],
      "gpuType": "T4",
      "mount_file_id": "1Cj2of-uaEr9O0x7r5v3yG6ZPfmSZhdJv",
      "authorship_tag": "ABX9TyM0CgT3RJEYu/3v9lnsfLBZ",
      "include_colab_link": true
    },
    "kernelspec": {
      "name": "python3",
      "display_name": "Python 3"
    },
    "language_info": {
      "name": "python"
    },
    "accelerator": "GPU"
  },
  "cells": [
    {
      "cell_type": "markdown",
      "metadata": {
        "id": "view-in-github",
        "colab_type": "text"
      },
      "source": [
        "<a href=\"https://colab.research.google.com/github/AhmedAlYousif-AI/j4HGXQr7eHWdOtfK/blob/main/MonReader%20Project.ipynb\" target=\"_parent\"><img src=\"https://colab.research.google.com/assets/colab-badge.svg\" alt=\"Open In Colab\"/></a>"
      ]
    },
    {
      "cell_type": "code",
      "execution_count": 91,
      "metadata": {
        "id": "ddSfoMAShSJ2"
      },
      "outputs": [],
      "source": [
        "#Importing the Essential libraries and their Functions\n",
        "\n",
        "import os\n",
        "import pandas as pd\n",
        "import numpy as np\n",
        "import matplotlib.pyplot as plt\n",
        "import seaborn as sns\n",
        "import sklearn\n",
        "import tensorflow.keras"
      ]
    },
    {
      "cell_type": "code",
      "source": [
        "from tensorflow.keras.layers import Input, Dense, Activation, Conv2D, MaxPooling2D, Flatten\n",
        "from tensorflow.keras.losses import binary_crossentropy\n",
        "from tensorflow.keras.optimizers import Adam\n",
        "from tensorflow.keras.activations import relu, sigmoid\n",
        "from tensorflow.keras.models import Sequential, save_model, load_model\n",
        "from tensorflow.keras.metrics import Accuracy"
      ],
      "metadata": {
        "id": "zpwDfPVlhX1s"
      },
      "execution_count": 92,
      "outputs": []
    },
    {
      "cell_type": "markdown",
      "source": [
        "Importing the Dataset"
      ],
      "metadata": {
        "id": "0QueBRbolsj2"
      }
    },
    {
      "cell_type": "code",
      "source": [
        "data = \"/content/drive/MyDrive/MonReader - Dataset/images\""
      ],
      "metadata": {
        "id": "IZf1-dktzIhV"
      },
      "execution_count": 93,
      "outputs": []
    },
    {
      "cell_type": "code",
      "source": [
        "training_path = \"/content/drive/MyDrive/MonReader - Dataset/images/training\"\n",
        "\n",
        "testing_path = \"/content/drive/MyDrive/MonReader - Dataset/images/testing\""
      ],
      "metadata": {
        "id": "R1Rg6M0khX4F"
      },
      "execution_count": 94,
      "outputs": []
    },
    {
      "cell_type": "code",
      "source": [
        "#Calculating the Number of Images for each path\n",
        "\n",
        "def count(dir, counter=0):\n",
        "    \"returns number of files in dir and subdirs\"\n",
        "    for pack in os.walk(dir):\n",
        "        for f in pack[2]:\n",
        "            counter += 1\n",
        "    return dir + \" : \" + str(counter) + \" files\"\n",
        "\n",
        "\n",
        "\n",
        "print('total images for Training data file :', count(training_path))\n",
        "print('total images for Testing data file :', count(testing_path))\n",
        "print('total images for data file :', count(data))"
      ],
      "metadata": {
        "colab": {
          "base_uri": "https://localhost:8080/"
        },
        "id": "FXni25-A0qIl",
        "outputId": "513d2c1d-9944-44b5-8fb5-152586c5ff68"
      },
      "execution_count": 95,
      "outputs": [
        {
          "output_type": "stream",
          "name": "stdout",
          "text": [
            "total images for Training data file : /content/drive/MyDrive/MonReader - Dataset/images/training : 2392 files\n",
            "total images for Testing data file : /content/drive/MyDrive/MonReader - Dataset/images/testing : 606 files\n",
            "total images for data file : /content/drive/MyDrive/MonReader - Dataset/images : 2998 files\n"
          ]
        }
      ]
    },
    {
      "cell_type": "code",
      "source": [
        "#Printing the Classes of the data\n",
        "\n",
        "import cv2\n",
        "\n",
        "img_size = (224, 224)\n",
        "\n",
        "SourcePath = '/content/drive/MyDrive/MonReader - Dataset/images'\n",
        "\n",
        "for folder in os.listdir(SourcePath):\n",
        "    folder_path = os.path.join(SourcePath, folder)\n",
        "    for imageName in os.listdir(folder_path):\n",
        "        img_path = os.path.join(folder_path, imageName)\n",
        "\n",
        "        print(\"Filename:\", imageName)  # Print the File Name\n",
        "        print(\"Filepath:\", img_path)  # Print the File Path"
      ],
      "metadata": {
        "colab": {
          "base_uri": "https://localhost:8080/"
        },
        "id": "kDOgUXBAHCQL",
        "outputId": "3314bca7-43ce-4840-8405-398a46592c1b"
      },
      "execution_count": 96,
      "outputs": [
        {
          "output_type": "stream",
          "name": "stdout",
          "text": [
            "Filename: flip\n",
            "Filepath: /content/drive/MyDrive/MonReader - Dataset/images/training/flip\n",
            "Filename: notflip\n",
            "Filepath: /content/drive/MyDrive/MonReader - Dataset/images/training/notflip\n",
            "Filename: notflip\n",
            "Filepath: /content/drive/MyDrive/MonReader - Dataset/images/testing/notflip\n",
            "Filename: flip\n",
            "Filepath: /content/drive/MyDrive/MonReader - Dataset/images/testing/flip\n"
          ]
        }
      ]
    },
    {
      "cell_type": "code",
      "source": [
        "target_size = img_size\n",
        "batch_size= 150\n",
        "\n",
        "classes = ['flip', 'notflip']"
      ],
      "metadata": {
        "id": "HuMfjbpWhYAT"
      },
      "execution_count": 97,
      "outputs": []
    },
    {
      "cell_type": "code",
      "source": [
        "from tensorflow.keras.preprocessing.image import ImageDataGenerator\n",
        "\n",
        "training_data_generator = ImageDataGenerator()\n",
        "\n",
        "testing_data_generator = ImageDataGenerator()"
      ],
      "metadata": {
        "id": "a0JSmskWfFgl"
      },
      "execution_count": 98,
      "outputs": []
    },
    {
      "cell_type": "code",
      "source": [
        "training_data = training_data_generator.flow_from_directory(training_path,\n",
        "                                                            target_size=target_size,\n",
        "                                                            batch_size=batch_size,\n",
        "                                                            classes=classes,\n",
        "                                                            class_mode='binary',\n",
        "                                                            shuffle=True)\n",
        "\n",
        "\n",
        "testing_data = testing_data_generator.flow_from_directory(testing_path,\n",
        "                                                          target_size=target_size,\n",
        "                                                          batch_size=batch_size,\n",
        "                                                          classes=classes,\n",
        "                                                          class_mode='binary',\n",
        "                                                          shuffle=True)"
      ],
      "metadata": {
        "colab": {
          "base_uri": "https://localhost:8080/"
        },
        "id": "oYmfNYbOmIsd",
        "outputId": "ea23e0c1-3736-426f-ecf1-b0b8ab83c0a6"
      },
      "execution_count": 100,
      "outputs": [
        {
          "output_type": "stream",
          "name": "stdout",
          "text": [
            "Found 2392 images belonging to 2 classes.\n",
            "Found 606 images belonging to 2 classes.\n"
          ]
        }
      ]
    },
    {
      "cell_type": "code",
      "source": [
        "training_data.image_shape"
      ],
      "metadata": {
        "id": "morCkZa2oTSc",
        "colab": {
          "base_uri": "https://localhost:8080/"
        },
        "outputId": "4220aa53-eb02-4077-c1ba-527098d81fbb"
      },
      "execution_count": 101,
      "outputs": [
        {
          "output_type": "execute_result",
          "data": {
            "text/plain": [
              "(224, 224, 3)"
            ]
          },
          "metadata": {},
          "execution_count": 101
        }
      ]
    },
    {
      "cell_type": "code",
      "source": [
        "testing_data.image_shape"
      ],
      "metadata": {
        "id": "fvS7P_83rUU1",
        "colab": {
          "base_uri": "https://localhost:8080/"
        },
        "outputId": "d6d24d7b-3bc3-462b-d6a4-171fd22bd63c"
      },
      "execution_count": 102,
      "outputs": [
        {
          "output_type": "execute_result",
          "data": {
            "text/plain": [
              "(224, 224, 3)"
            ]
          },
          "metadata": {},
          "execution_count": 102
        }
      ]
    },
    {
      "cell_type": "markdown",
      "source": [
        "**Building the Model**"
      ],
      "metadata": {
        "id": "_Qa-b5VVo1f7"
      }
    },
    {
      "cell_type": "markdown",
      "source": [
        "CNN Architecture"
      ],
      "metadata": {
        "id": "G6Eauyq5fTOg"
      }
    },
    {
      "cell_type": "code",
      "source": [
        "model = Sequential([\n",
        "        Conv2D(32, 3, activation=\"relu\", input_shape=(224, 224, 3)),\n",
        "        MaxPooling2D(pool_size=(2,2)),\n",
        "        Conv2D(64, 3, activation=\"relu\"),\n",
        "        MaxPooling2D(pool_size=(2,2)),\n",
        "        Conv2D(128, 3, activation=\"relu\"),\n",
        "        MaxPooling2D(pool_size=(2,2)),\n",
        "        Conv2D(256, 3, activation=\"relu\"),\n",
        "        MaxPooling2D(pool_size=(2,2)),\n",
        "        Flatten(),\n",
        "        Dense(256, activation=\"relu\"),\n",
        "        Dense(1, activation=\"sigmoid\")\n",
        "])\n",
        "\n",
        "\n",
        "model.summary()"
      ],
      "metadata": {
        "id": "FDQ1dUHEfTZg",
        "colab": {
          "base_uri": "https://localhost:8080/",
          "height": 565
        },
        "outputId": "6b99c161-8558-48d8-bb6e-e50492be6e55"
      },
      "execution_count": 103,
      "outputs": [
        {
          "output_type": "stream",
          "name": "stderr",
          "text": [
            "/usr/local/lib/python3.11/dist-packages/keras/src/layers/convolutional/base_conv.py:107: UserWarning: Do not pass an `input_shape`/`input_dim` argument to a layer. When using Sequential models, prefer using an `Input(shape)` object as the first layer in the model instead.\n",
            "  super().__init__(activity_regularizer=activity_regularizer, **kwargs)\n"
          ]
        },
        {
          "output_type": "display_data",
          "data": {
            "text/plain": [
              "\u001b[1mModel: \"sequential_4\"\u001b[0m\n"
            ],
            "text/html": [
              "<pre style=\"white-space:pre;overflow-x:auto;line-height:normal;font-family:Menlo,'DejaVu Sans Mono',consolas,'Courier New',monospace\"><span style=\"font-weight: bold\">Model: \"sequential_4\"</span>\n",
              "</pre>\n"
            ]
          },
          "metadata": {}
        },
        {
          "output_type": "display_data",
          "data": {
            "text/plain": [
              "┏━━━━━━━━━━━━━━━━━━━━━━━━━━━━━━━━━┳━━━━━━━━━━━━━━━━━━━━━━━━┳━━━━━━━━━━━━━━━┓\n",
              "┃\u001b[1m \u001b[0m\u001b[1mLayer (type)                   \u001b[0m\u001b[1m \u001b[0m┃\u001b[1m \u001b[0m\u001b[1mOutput Shape          \u001b[0m\u001b[1m \u001b[0m┃\u001b[1m \u001b[0m\u001b[1m      Param #\u001b[0m\u001b[1m \u001b[0m┃\n",
              "┡━━━━━━━━━━━━━━━━━━━━━━━━━━━━━━━━━╇━━━━━━━━━━━━━━━━━━━━━━━━╇━━━━━━━━━━━━━━━┩\n",
              "│ conv2d_16 (\u001b[38;5;33mConv2D\u001b[0m)              │ (\u001b[38;5;45mNone\u001b[0m, \u001b[38;5;34m222\u001b[0m, \u001b[38;5;34m222\u001b[0m, \u001b[38;5;34m32\u001b[0m)   │           \u001b[38;5;34m896\u001b[0m │\n",
              "├─────────────────────────────────┼────────────────────────┼───────────────┤\n",
              "│ max_pooling2d_16 (\u001b[38;5;33mMaxPooling2D\u001b[0m) │ (\u001b[38;5;45mNone\u001b[0m, \u001b[38;5;34m111\u001b[0m, \u001b[38;5;34m111\u001b[0m, \u001b[38;5;34m32\u001b[0m)   │             \u001b[38;5;34m0\u001b[0m │\n",
              "├─────────────────────────────────┼────────────────────────┼───────────────┤\n",
              "│ conv2d_17 (\u001b[38;5;33mConv2D\u001b[0m)              │ (\u001b[38;5;45mNone\u001b[0m, \u001b[38;5;34m109\u001b[0m, \u001b[38;5;34m109\u001b[0m, \u001b[38;5;34m64\u001b[0m)   │        \u001b[38;5;34m18,496\u001b[0m │\n",
              "├─────────────────────────────────┼────────────────────────┼───────────────┤\n",
              "│ max_pooling2d_17 (\u001b[38;5;33mMaxPooling2D\u001b[0m) │ (\u001b[38;5;45mNone\u001b[0m, \u001b[38;5;34m54\u001b[0m, \u001b[38;5;34m54\u001b[0m, \u001b[38;5;34m64\u001b[0m)     │             \u001b[38;5;34m0\u001b[0m │\n",
              "├─────────────────────────────────┼────────────────────────┼───────────────┤\n",
              "│ conv2d_18 (\u001b[38;5;33mConv2D\u001b[0m)              │ (\u001b[38;5;45mNone\u001b[0m, \u001b[38;5;34m52\u001b[0m, \u001b[38;5;34m52\u001b[0m, \u001b[38;5;34m128\u001b[0m)    │        \u001b[38;5;34m73,856\u001b[0m │\n",
              "├─────────────────────────────────┼────────────────────────┼───────────────┤\n",
              "│ max_pooling2d_18 (\u001b[38;5;33mMaxPooling2D\u001b[0m) │ (\u001b[38;5;45mNone\u001b[0m, \u001b[38;5;34m26\u001b[0m, \u001b[38;5;34m26\u001b[0m, \u001b[38;5;34m128\u001b[0m)    │             \u001b[38;5;34m0\u001b[0m │\n",
              "├─────────────────────────────────┼────────────────────────┼───────────────┤\n",
              "│ conv2d_19 (\u001b[38;5;33mConv2D\u001b[0m)              │ (\u001b[38;5;45mNone\u001b[0m, \u001b[38;5;34m24\u001b[0m, \u001b[38;5;34m24\u001b[0m, \u001b[38;5;34m256\u001b[0m)    │       \u001b[38;5;34m295,168\u001b[0m │\n",
              "├─────────────────────────────────┼────────────────────────┼───────────────┤\n",
              "│ max_pooling2d_19 (\u001b[38;5;33mMaxPooling2D\u001b[0m) │ (\u001b[38;5;45mNone\u001b[0m, \u001b[38;5;34m12\u001b[0m, \u001b[38;5;34m12\u001b[0m, \u001b[38;5;34m256\u001b[0m)    │             \u001b[38;5;34m0\u001b[0m │\n",
              "├─────────────────────────────────┼────────────────────────┼───────────────┤\n",
              "│ flatten_4 (\u001b[38;5;33mFlatten\u001b[0m)             │ (\u001b[38;5;45mNone\u001b[0m, \u001b[38;5;34m36864\u001b[0m)          │             \u001b[38;5;34m0\u001b[0m │\n",
              "├─────────────────────────────────┼────────────────────────┼───────────────┤\n",
              "│ dense_8 (\u001b[38;5;33mDense\u001b[0m)                 │ (\u001b[38;5;45mNone\u001b[0m, \u001b[38;5;34m256\u001b[0m)            │     \u001b[38;5;34m9,437,440\u001b[0m │\n",
              "├─────────────────────────────────┼────────────────────────┼───────────────┤\n",
              "│ dense_9 (\u001b[38;5;33mDense\u001b[0m)                 │ (\u001b[38;5;45mNone\u001b[0m, \u001b[38;5;34m1\u001b[0m)              │           \u001b[38;5;34m257\u001b[0m │\n",
              "└─────────────────────────────────┴────────────────────────┴───────────────┘\n"
            ],
            "text/html": [
              "<pre style=\"white-space:pre;overflow-x:auto;line-height:normal;font-family:Menlo,'DejaVu Sans Mono',consolas,'Courier New',monospace\">┏━━━━━━━━━━━━━━━━━━━━━━━━━━━━━━━━━┳━━━━━━━━━━━━━━━━━━━━━━━━┳━━━━━━━━━━━━━━━┓\n",
              "┃<span style=\"font-weight: bold\"> Layer (type)                    </span>┃<span style=\"font-weight: bold\"> Output Shape           </span>┃<span style=\"font-weight: bold\">       Param # </span>┃\n",
              "┡━━━━━━━━━━━━━━━━━━━━━━━━━━━━━━━━━╇━━━━━━━━━━━━━━━━━━━━━━━━╇━━━━━━━━━━━━━━━┩\n",
              "│ conv2d_16 (<span style=\"color: #0087ff; text-decoration-color: #0087ff\">Conv2D</span>)              │ (<span style=\"color: #00d7ff; text-decoration-color: #00d7ff\">None</span>, <span style=\"color: #00af00; text-decoration-color: #00af00\">222</span>, <span style=\"color: #00af00; text-decoration-color: #00af00\">222</span>, <span style=\"color: #00af00; text-decoration-color: #00af00\">32</span>)   │           <span style=\"color: #00af00; text-decoration-color: #00af00\">896</span> │\n",
              "├─────────────────────────────────┼────────────────────────┼───────────────┤\n",
              "│ max_pooling2d_16 (<span style=\"color: #0087ff; text-decoration-color: #0087ff\">MaxPooling2D</span>) │ (<span style=\"color: #00d7ff; text-decoration-color: #00d7ff\">None</span>, <span style=\"color: #00af00; text-decoration-color: #00af00\">111</span>, <span style=\"color: #00af00; text-decoration-color: #00af00\">111</span>, <span style=\"color: #00af00; text-decoration-color: #00af00\">32</span>)   │             <span style=\"color: #00af00; text-decoration-color: #00af00\">0</span> │\n",
              "├─────────────────────────────────┼────────────────────────┼───────────────┤\n",
              "│ conv2d_17 (<span style=\"color: #0087ff; text-decoration-color: #0087ff\">Conv2D</span>)              │ (<span style=\"color: #00d7ff; text-decoration-color: #00d7ff\">None</span>, <span style=\"color: #00af00; text-decoration-color: #00af00\">109</span>, <span style=\"color: #00af00; text-decoration-color: #00af00\">109</span>, <span style=\"color: #00af00; text-decoration-color: #00af00\">64</span>)   │        <span style=\"color: #00af00; text-decoration-color: #00af00\">18,496</span> │\n",
              "├─────────────────────────────────┼────────────────────────┼───────────────┤\n",
              "│ max_pooling2d_17 (<span style=\"color: #0087ff; text-decoration-color: #0087ff\">MaxPooling2D</span>) │ (<span style=\"color: #00d7ff; text-decoration-color: #00d7ff\">None</span>, <span style=\"color: #00af00; text-decoration-color: #00af00\">54</span>, <span style=\"color: #00af00; text-decoration-color: #00af00\">54</span>, <span style=\"color: #00af00; text-decoration-color: #00af00\">64</span>)     │             <span style=\"color: #00af00; text-decoration-color: #00af00\">0</span> │\n",
              "├─────────────────────────────────┼────────────────────────┼───────────────┤\n",
              "│ conv2d_18 (<span style=\"color: #0087ff; text-decoration-color: #0087ff\">Conv2D</span>)              │ (<span style=\"color: #00d7ff; text-decoration-color: #00d7ff\">None</span>, <span style=\"color: #00af00; text-decoration-color: #00af00\">52</span>, <span style=\"color: #00af00; text-decoration-color: #00af00\">52</span>, <span style=\"color: #00af00; text-decoration-color: #00af00\">128</span>)    │        <span style=\"color: #00af00; text-decoration-color: #00af00\">73,856</span> │\n",
              "├─────────────────────────────────┼────────────────────────┼───────────────┤\n",
              "│ max_pooling2d_18 (<span style=\"color: #0087ff; text-decoration-color: #0087ff\">MaxPooling2D</span>) │ (<span style=\"color: #00d7ff; text-decoration-color: #00d7ff\">None</span>, <span style=\"color: #00af00; text-decoration-color: #00af00\">26</span>, <span style=\"color: #00af00; text-decoration-color: #00af00\">26</span>, <span style=\"color: #00af00; text-decoration-color: #00af00\">128</span>)    │             <span style=\"color: #00af00; text-decoration-color: #00af00\">0</span> │\n",
              "├─────────────────────────────────┼────────────────────────┼───────────────┤\n",
              "│ conv2d_19 (<span style=\"color: #0087ff; text-decoration-color: #0087ff\">Conv2D</span>)              │ (<span style=\"color: #00d7ff; text-decoration-color: #00d7ff\">None</span>, <span style=\"color: #00af00; text-decoration-color: #00af00\">24</span>, <span style=\"color: #00af00; text-decoration-color: #00af00\">24</span>, <span style=\"color: #00af00; text-decoration-color: #00af00\">256</span>)    │       <span style=\"color: #00af00; text-decoration-color: #00af00\">295,168</span> │\n",
              "├─────────────────────────────────┼────────────────────────┼───────────────┤\n",
              "│ max_pooling2d_19 (<span style=\"color: #0087ff; text-decoration-color: #0087ff\">MaxPooling2D</span>) │ (<span style=\"color: #00d7ff; text-decoration-color: #00d7ff\">None</span>, <span style=\"color: #00af00; text-decoration-color: #00af00\">12</span>, <span style=\"color: #00af00; text-decoration-color: #00af00\">12</span>, <span style=\"color: #00af00; text-decoration-color: #00af00\">256</span>)    │             <span style=\"color: #00af00; text-decoration-color: #00af00\">0</span> │\n",
              "├─────────────────────────────────┼────────────────────────┼───────────────┤\n",
              "│ flatten_4 (<span style=\"color: #0087ff; text-decoration-color: #0087ff\">Flatten</span>)             │ (<span style=\"color: #00d7ff; text-decoration-color: #00d7ff\">None</span>, <span style=\"color: #00af00; text-decoration-color: #00af00\">36864</span>)          │             <span style=\"color: #00af00; text-decoration-color: #00af00\">0</span> │\n",
              "├─────────────────────────────────┼────────────────────────┼───────────────┤\n",
              "│ dense_8 (<span style=\"color: #0087ff; text-decoration-color: #0087ff\">Dense</span>)                 │ (<span style=\"color: #00d7ff; text-decoration-color: #00d7ff\">None</span>, <span style=\"color: #00af00; text-decoration-color: #00af00\">256</span>)            │     <span style=\"color: #00af00; text-decoration-color: #00af00\">9,437,440</span> │\n",
              "├─────────────────────────────────┼────────────────────────┼───────────────┤\n",
              "│ dense_9 (<span style=\"color: #0087ff; text-decoration-color: #0087ff\">Dense</span>)                 │ (<span style=\"color: #00d7ff; text-decoration-color: #00d7ff\">None</span>, <span style=\"color: #00af00; text-decoration-color: #00af00\">1</span>)              │           <span style=\"color: #00af00; text-decoration-color: #00af00\">257</span> │\n",
              "└─────────────────────────────────┴────────────────────────┴───────────────┘\n",
              "</pre>\n"
            ]
          },
          "metadata": {}
        },
        {
          "output_type": "display_data",
          "data": {
            "text/plain": [
              "\u001b[1m Total params: \u001b[0m\u001b[38;5;34m9,826,113\u001b[0m (37.48 MB)\n"
            ],
            "text/html": [
              "<pre style=\"white-space:pre;overflow-x:auto;line-height:normal;font-family:Menlo,'DejaVu Sans Mono',consolas,'Courier New',monospace\"><span style=\"font-weight: bold\"> Total params: </span><span style=\"color: #00af00; text-decoration-color: #00af00\">9,826,113</span> (37.48 MB)\n",
              "</pre>\n"
            ]
          },
          "metadata": {}
        },
        {
          "output_type": "display_data",
          "data": {
            "text/plain": [
              "\u001b[1m Trainable params: \u001b[0m\u001b[38;5;34m9,826,113\u001b[0m (37.48 MB)\n"
            ],
            "text/html": [
              "<pre style=\"white-space:pre;overflow-x:auto;line-height:normal;font-family:Menlo,'DejaVu Sans Mono',consolas,'Courier New',monospace\"><span style=\"font-weight: bold\"> Trainable params: </span><span style=\"color: #00af00; text-decoration-color: #00af00\">9,826,113</span> (37.48 MB)\n",
              "</pre>\n"
            ]
          },
          "metadata": {}
        },
        {
          "output_type": "display_data",
          "data": {
            "text/plain": [
              "\u001b[1m Non-trainable params: \u001b[0m\u001b[38;5;34m0\u001b[0m (0.00 B)\n"
            ],
            "text/html": [
              "<pre style=\"white-space:pre;overflow-x:auto;line-height:normal;font-family:Menlo,'DejaVu Sans Mono',consolas,'Courier New',monospace\"><span style=\"font-weight: bold\"> Non-trainable params: </span><span style=\"color: #00af00; text-decoration-color: #00af00\">0</span> (0.00 B)\n",
              "</pre>\n"
            ]
          },
          "metadata": {}
        }
      ]
    },
    {
      "cell_type": "code",
      "source": [
        "model.compile(loss='binary_crossentropy',\n",
        "              optimizer='Adam',\n",
        "              metrics=['accuracy'])"
      ],
      "metadata": {
        "id": "QsIfJWMBo7Vr"
      },
      "execution_count": 104,
      "outputs": []
    },
    {
      "cell_type": "code",
      "source": [
        "model.summary()"
      ],
      "metadata": {
        "id": "ZGmXtA_bplHX",
        "colab": {
          "base_uri": "https://localhost:8080/",
          "height": 510
        },
        "outputId": "4cec6997-d203-4b53-fdc6-f40281b908bd"
      },
      "execution_count": 105,
      "outputs": [
        {
          "output_type": "display_data",
          "data": {
            "text/plain": [
              "\u001b[1mModel: \"sequential_4\"\u001b[0m\n"
            ],
            "text/html": [
              "<pre style=\"white-space:pre;overflow-x:auto;line-height:normal;font-family:Menlo,'DejaVu Sans Mono',consolas,'Courier New',monospace\"><span style=\"font-weight: bold\">Model: \"sequential_4\"</span>\n",
              "</pre>\n"
            ]
          },
          "metadata": {}
        },
        {
          "output_type": "display_data",
          "data": {
            "text/plain": [
              "┏━━━━━━━━━━━━━━━━━━━━━━━━━━━━━━━━━┳━━━━━━━━━━━━━━━━━━━━━━━━┳━━━━━━━━━━━━━━━┓\n",
              "┃\u001b[1m \u001b[0m\u001b[1mLayer (type)                   \u001b[0m\u001b[1m \u001b[0m┃\u001b[1m \u001b[0m\u001b[1mOutput Shape          \u001b[0m\u001b[1m \u001b[0m┃\u001b[1m \u001b[0m\u001b[1m      Param #\u001b[0m\u001b[1m \u001b[0m┃\n",
              "┡━━━━━━━━━━━━━━━━━━━━━━━━━━━━━━━━━╇━━━━━━━━━━━━━━━━━━━━━━━━╇━━━━━━━━━━━━━━━┩\n",
              "│ conv2d_16 (\u001b[38;5;33mConv2D\u001b[0m)              │ (\u001b[38;5;45mNone\u001b[0m, \u001b[38;5;34m222\u001b[0m, \u001b[38;5;34m222\u001b[0m, \u001b[38;5;34m32\u001b[0m)   │           \u001b[38;5;34m896\u001b[0m │\n",
              "├─────────────────────────────────┼────────────────────────┼───────────────┤\n",
              "│ max_pooling2d_16 (\u001b[38;5;33mMaxPooling2D\u001b[0m) │ (\u001b[38;5;45mNone\u001b[0m, \u001b[38;5;34m111\u001b[0m, \u001b[38;5;34m111\u001b[0m, \u001b[38;5;34m32\u001b[0m)   │             \u001b[38;5;34m0\u001b[0m │\n",
              "├─────────────────────────────────┼────────────────────────┼───────────────┤\n",
              "│ conv2d_17 (\u001b[38;5;33mConv2D\u001b[0m)              │ (\u001b[38;5;45mNone\u001b[0m, \u001b[38;5;34m109\u001b[0m, \u001b[38;5;34m109\u001b[0m, \u001b[38;5;34m64\u001b[0m)   │        \u001b[38;5;34m18,496\u001b[0m │\n",
              "├─────────────────────────────────┼────────────────────────┼───────────────┤\n",
              "│ max_pooling2d_17 (\u001b[38;5;33mMaxPooling2D\u001b[0m) │ (\u001b[38;5;45mNone\u001b[0m, \u001b[38;5;34m54\u001b[0m, \u001b[38;5;34m54\u001b[0m, \u001b[38;5;34m64\u001b[0m)     │             \u001b[38;5;34m0\u001b[0m │\n",
              "├─────────────────────────────────┼────────────────────────┼───────────────┤\n",
              "│ conv2d_18 (\u001b[38;5;33mConv2D\u001b[0m)              │ (\u001b[38;5;45mNone\u001b[0m, \u001b[38;5;34m52\u001b[0m, \u001b[38;5;34m52\u001b[0m, \u001b[38;5;34m128\u001b[0m)    │        \u001b[38;5;34m73,856\u001b[0m │\n",
              "├─────────────────────────────────┼────────────────────────┼───────────────┤\n",
              "│ max_pooling2d_18 (\u001b[38;5;33mMaxPooling2D\u001b[0m) │ (\u001b[38;5;45mNone\u001b[0m, \u001b[38;5;34m26\u001b[0m, \u001b[38;5;34m26\u001b[0m, \u001b[38;5;34m128\u001b[0m)    │             \u001b[38;5;34m0\u001b[0m │\n",
              "├─────────────────────────────────┼────────────────────────┼───────────────┤\n",
              "│ conv2d_19 (\u001b[38;5;33mConv2D\u001b[0m)              │ (\u001b[38;5;45mNone\u001b[0m, \u001b[38;5;34m24\u001b[0m, \u001b[38;5;34m24\u001b[0m, \u001b[38;5;34m256\u001b[0m)    │       \u001b[38;5;34m295,168\u001b[0m │\n",
              "├─────────────────────────────────┼────────────────────────┼───────────────┤\n",
              "│ max_pooling2d_19 (\u001b[38;5;33mMaxPooling2D\u001b[0m) │ (\u001b[38;5;45mNone\u001b[0m, \u001b[38;5;34m12\u001b[0m, \u001b[38;5;34m12\u001b[0m, \u001b[38;5;34m256\u001b[0m)    │             \u001b[38;5;34m0\u001b[0m │\n",
              "├─────────────────────────────────┼────────────────────────┼───────────────┤\n",
              "│ flatten_4 (\u001b[38;5;33mFlatten\u001b[0m)             │ (\u001b[38;5;45mNone\u001b[0m, \u001b[38;5;34m36864\u001b[0m)          │             \u001b[38;5;34m0\u001b[0m │\n",
              "├─────────────────────────────────┼────────────────────────┼───────────────┤\n",
              "│ dense_8 (\u001b[38;5;33mDense\u001b[0m)                 │ (\u001b[38;5;45mNone\u001b[0m, \u001b[38;5;34m256\u001b[0m)            │     \u001b[38;5;34m9,437,440\u001b[0m │\n",
              "├─────────────────────────────────┼────────────────────────┼───────────────┤\n",
              "│ dense_9 (\u001b[38;5;33mDense\u001b[0m)                 │ (\u001b[38;5;45mNone\u001b[0m, \u001b[38;5;34m1\u001b[0m)              │           \u001b[38;5;34m257\u001b[0m │\n",
              "└─────────────────────────────────┴────────────────────────┴───────────────┘\n"
            ],
            "text/html": [
              "<pre style=\"white-space:pre;overflow-x:auto;line-height:normal;font-family:Menlo,'DejaVu Sans Mono',consolas,'Courier New',monospace\">┏━━━━━━━━━━━━━━━━━━━━━━━━━━━━━━━━━┳━━━━━━━━━━━━━━━━━━━━━━━━┳━━━━━━━━━━━━━━━┓\n",
              "┃<span style=\"font-weight: bold\"> Layer (type)                    </span>┃<span style=\"font-weight: bold\"> Output Shape           </span>┃<span style=\"font-weight: bold\">       Param # </span>┃\n",
              "┡━━━━━━━━━━━━━━━━━━━━━━━━━━━━━━━━━╇━━━━━━━━━━━━━━━━━━━━━━━━╇━━━━━━━━━━━━━━━┩\n",
              "│ conv2d_16 (<span style=\"color: #0087ff; text-decoration-color: #0087ff\">Conv2D</span>)              │ (<span style=\"color: #00d7ff; text-decoration-color: #00d7ff\">None</span>, <span style=\"color: #00af00; text-decoration-color: #00af00\">222</span>, <span style=\"color: #00af00; text-decoration-color: #00af00\">222</span>, <span style=\"color: #00af00; text-decoration-color: #00af00\">32</span>)   │           <span style=\"color: #00af00; text-decoration-color: #00af00\">896</span> │\n",
              "├─────────────────────────────────┼────────────────────────┼───────────────┤\n",
              "│ max_pooling2d_16 (<span style=\"color: #0087ff; text-decoration-color: #0087ff\">MaxPooling2D</span>) │ (<span style=\"color: #00d7ff; text-decoration-color: #00d7ff\">None</span>, <span style=\"color: #00af00; text-decoration-color: #00af00\">111</span>, <span style=\"color: #00af00; text-decoration-color: #00af00\">111</span>, <span style=\"color: #00af00; text-decoration-color: #00af00\">32</span>)   │             <span style=\"color: #00af00; text-decoration-color: #00af00\">0</span> │\n",
              "├─────────────────────────────────┼────────────────────────┼───────────────┤\n",
              "│ conv2d_17 (<span style=\"color: #0087ff; text-decoration-color: #0087ff\">Conv2D</span>)              │ (<span style=\"color: #00d7ff; text-decoration-color: #00d7ff\">None</span>, <span style=\"color: #00af00; text-decoration-color: #00af00\">109</span>, <span style=\"color: #00af00; text-decoration-color: #00af00\">109</span>, <span style=\"color: #00af00; text-decoration-color: #00af00\">64</span>)   │        <span style=\"color: #00af00; text-decoration-color: #00af00\">18,496</span> │\n",
              "├─────────────────────────────────┼────────────────────────┼───────────────┤\n",
              "│ max_pooling2d_17 (<span style=\"color: #0087ff; text-decoration-color: #0087ff\">MaxPooling2D</span>) │ (<span style=\"color: #00d7ff; text-decoration-color: #00d7ff\">None</span>, <span style=\"color: #00af00; text-decoration-color: #00af00\">54</span>, <span style=\"color: #00af00; text-decoration-color: #00af00\">54</span>, <span style=\"color: #00af00; text-decoration-color: #00af00\">64</span>)     │             <span style=\"color: #00af00; text-decoration-color: #00af00\">0</span> │\n",
              "├─────────────────────────────────┼────────────────────────┼───────────────┤\n",
              "│ conv2d_18 (<span style=\"color: #0087ff; text-decoration-color: #0087ff\">Conv2D</span>)              │ (<span style=\"color: #00d7ff; text-decoration-color: #00d7ff\">None</span>, <span style=\"color: #00af00; text-decoration-color: #00af00\">52</span>, <span style=\"color: #00af00; text-decoration-color: #00af00\">52</span>, <span style=\"color: #00af00; text-decoration-color: #00af00\">128</span>)    │        <span style=\"color: #00af00; text-decoration-color: #00af00\">73,856</span> │\n",
              "├─────────────────────────────────┼────────────────────────┼───────────────┤\n",
              "│ max_pooling2d_18 (<span style=\"color: #0087ff; text-decoration-color: #0087ff\">MaxPooling2D</span>) │ (<span style=\"color: #00d7ff; text-decoration-color: #00d7ff\">None</span>, <span style=\"color: #00af00; text-decoration-color: #00af00\">26</span>, <span style=\"color: #00af00; text-decoration-color: #00af00\">26</span>, <span style=\"color: #00af00; text-decoration-color: #00af00\">128</span>)    │             <span style=\"color: #00af00; text-decoration-color: #00af00\">0</span> │\n",
              "├─────────────────────────────────┼────────────────────────┼───────────────┤\n",
              "│ conv2d_19 (<span style=\"color: #0087ff; text-decoration-color: #0087ff\">Conv2D</span>)              │ (<span style=\"color: #00d7ff; text-decoration-color: #00d7ff\">None</span>, <span style=\"color: #00af00; text-decoration-color: #00af00\">24</span>, <span style=\"color: #00af00; text-decoration-color: #00af00\">24</span>, <span style=\"color: #00af00; text-decoration-color: #00af00\">256</span>)    │       <span style=\"color: #00af00; text-decoration-color: #00af00\">295,168</span> │\n",
              "├─────────────────────────────────┼────────────────────────┼───────────────┤\n",
              "│ max_pooling2d_19 (<span style=\"color: #0087ff; text-decoration-color: #0087ff\">MaxPooling2D</span>) │ (<span style=\"color: #00d7ff; text-decoration-color: #00d7ff\">None</span>, <span style=\"color: #00af00; text-decoration-color: #00af00\">12</span>, <span style=\"color: #00af00; text-decoration-color: #00af00\">12</span>, <span style=\"color: #00af00; text-decoration-color: #00af00\">256</span>)    │             <span style=\"color: #00af00; text-decoration-color: #00af00\">0</span> │\n",
              "├─────────────────────────────────┼────────────────────────┼───────────────┤\n",
              "│ flatten_4 (<span style=\"color: #0087ff; text-decoration-color: #0087ff\">Flatten</span>)             │ (<span style=\"color: #00d7ff; text-decoration-color: #00d7ff\">None</span>, <span style=\"color: #00af00; text-decoration-color: #00af00\">36864</span>)          │             <span style=\"color: #00af00; text-decoration-color: #00af00\">0</span> │\n",
              "├─────────────────────────────────┼────────────────────────┼───────────────┤\n",
              "│ dense_8 (<span style=\"color: #0087ff; text-decoration-color: #0087ff\">Dense</span>)                 │ (<span style=\"color: #00d7ff; text-decoration-color: #00d7ff\">None</span>, <span style=\"color: #00af00; text-decoration-color: #00af00\">256</span>)            │     <span style=\"color: #00af00; text-decoration-color: #00af00\">9,437,440</span> │\n",
              "├─────────────────────────────────┼────────────────────────┼───────────────┤\n",
              "│ dense_9 (<span style=\"color: #0087ff; text-decoration-color: #0087ff\">Dense</span>)                 │ (<span style=\"color: #00d7ff; text-decoration-color: #00d7ff\">None</span>, <span style=\"color: #00af00; text-decoration-color: #00af00\">1</span>)              │           <span style=\"color: #00af00; text-decoration-color: #00af00\">257</span> │\n",
              "└─────────────────────────────────┴────────────────────────┴───────────────┘\n",
              "</pre>\n"
            ]
          },
          "metadata": {}
        },
        {
          "output_type": "display_data",
          "data": {
            "text/plain": [
              "\u001b[1m Total params: \u001b[0m\u001b[38;5;34m9,826,113\u001b[0m (37.48 MB)\n"
            ],
            "text/html": [
              "<pre style=\"white-space:pre;overflow-x:auto;line-height:normal;font-family:Menlo,'DejaVu Sans Mono',consolas,'Courier New',monospace\"><span style=\"font-weight: bold\"> Total params: </span><span style=\"color: #00af00; text-decoration-color: #00af00\">9,826,113</span> (37.48 MB)\n",
              "</pre>\n"
            ]
          },
          "metadata": {}
        },
        {
          "output_type": "display_data",
          "data": {
            "text/plain": [
              "\u001b[1m Trainable params: \u001b[0m\u001b[38;5;34m9,826,113\u001b[0m (37.48 MB)\n"
            ],
            "text/html": [
              "<pre style=\"white-space:pre;overflow-x:auto;line-height:normal;font-family:Menlo,'DejaVu Sans Mono',consolas,'Courier New',monospace\"><span style=\"font-weight: bold\"> Trainable params: </span><span style=\"color: #00af00; text-decoration-color: #00af00\">9,826,113</span> (37.48 MB)\n",
              "</pre>\n"
            ]
          },
          "metadata": {}
        },
        {
          "output_type": "display_data",
          "data": {
            "text/plain": [
              "\u001b[1m Non-trainable params: \u001b[0m\u001b[38;5;34m0\u001b[0m (0.00 B)\n"
            ],
            "text/html": [
              "<pre style=\"white-space:pre;overflow-x:auto;line-height:normal;font-family:Menlo,'DejaVu Sans Mono',consolas,'Courier New',monospace\"><span style=\"font-weight: bold\"> Non-trainable params: </span><span style=\"color: #00af00; text-decoration-color: #00af00\">0</span> (0.00 B)\n",
              "</pre>\n"
            ]
          },
          "metadata": {}
        }
      ]
    },
    {
      "cell_type": "code",
      "source": [
        "EarlyStopping = tensorflow.keras.callbacks.EarlyStopping(\n",
        "    monitor='accuracy',\n",
        "    patience=3,\n",
        "    mode='max',\n",
        "    restore_best_weights=False\n",
        ")"
      ],
      "metadata": {
        "id": "FUuliq6d0IfA"
      },
      "execution_count": 106,
      "outputs": []
    },
    {
      "cell_type": "code",
      "source": [
        "history = model.fit(training_data, epochs=60, batch_size=batch_size, verbose=2, callbacks=[EarlyStopping])"
      ],
      "metadata": {
        "id": "si-f2dKZo7g7",
        "colab": {
          "base_uri": "https://localhost:8080/"
        },
        "outputId": "63ebf5ea-3c75-4b57-bbaa-2ed0029b786b"
      },
      "execution_count": 107,
      "outputs": [
        {
          "output_type": "stream",
          "name": "stderr",
          "text": [
            "/usr/local/lib/python3.11/dist-packages/keras/src/trainers/data_adapters/py_dataset_adapter.py:121: UserWarning: Your `PyDataset` class should call `super().__init__(**kwargs)` in its constructor. `**kwargs` can include `workers`, `use_multiprocessing`, `max_queue_size`. Do not pass these arguments to `fit()`, as they will be ignored.\n",
            "  self._warn_if_super_not_called()\n"
          ]
        },
        {
          "output_type": "stream",
          "name": "stdout",
          "text": [
            "Epoch 1/60\n",
            "16/16 - 40s - 3s/step - accuracy: 0.5184 - loss: 68.5183\n",
            "Epoch 2/60\n",
            "16/16 - 41s - 3s/step - accuracy: 0.6066 - loss: 0.6546\n",
            "Epoch 3/60\n",
            "16/16 - 35s - 2s/step - accuracy: 0.7212 - loss: 0.5471\n",
            "Epoch 4/60\n",
            "16/16 - 38s - 2s/step - accuracy: 0.8035 - loss: 0.4189\n",
            "Epoch 5/60\n",
            "16/16 - 37s - 2s/step - accuracy: 0.8161 - loss: 0.4033\n",
            "Epoch 6/60\n",
            "16/16 - 38s - 2s/step - accuracy: 0.8725 - loss: 0.3088\n",
            "Epoch 7/60\n",
            "16/16 - 39s - 2s/step - accuracy: 0.9423 - loss: 0.1647\n",
            "Epoch 8/60\n",
            "16/16 - 36s - 2s/step - accuracy: 0.9724 - loss: 0.0904\n",
            "Epoch 9/60\n",
            "16/16 - 37s - 2s/step - accuracy: 0.9766 - loss: 0.0711\n",
            "Epoch 10/60\n",
            "16/16 - 38s - 2s/step - accuracy: 0.9795 - loss: 0.0654\n",
            "Epoch 11/60\n",
            "16/16 - 35s - 2s/step - accuracy: 0.9858 - loss: 0.0409\n",
            "Epoch 12/60\n",
            "16/16 - 38s - 2s/step - accuracy: 0.9946 - loss: 0.0224\n",
            "Epoch 13/60\n",
            "16/16 - 37s - 2s/step - accuracy: 0.9971 - loss: 0.0116\n",
            "Epoch 14/60\n",
            "16/16 - 35s - 2s/step - accuracy: 0.9975 - loss: 0.0102\n",
            "Epoch 15/60\n",
            "16/16 - 42s - 3s/step - accuracy: 0.9967 - loss: 0.0112\n",
            "Epoch 16/60\n",
            "16/16 - 37s - 2s/step - accuracy: 0.9962 - loss: 0.0101\n",
            "Epoch 17/60\n",
            "16/16 - 40s - 3s/step - accuracy: 1.0000 - loss: 0.0047\n",
            "Epoch 18/60\n",
            "16/16 - 36s - 2s/step - accuracy: 1.0000 - loss: 0.0021\n",
            "Epoch 19/60\n",
            "16/16 - 40s - 2s/step - accuracy: 1.0000 - loss: 0.0016\n",
            "Epoch 20/60\n",
            "16/16 - 38s - 2s/step - accuracy: 1.0000 - loss: 0.0010\n"
          ]
        }
      ]
    },
    {
      "cell_type": "code",
      "source": [
        "#Plotting the Accuracy using Matplotlib\n",
        "\n",
        "epochs = range(1, len(history.history['accuracy']) + 1)\n",
        "Accuracy = history.history['accuracy']\n",
        "\n",
        "plt.plot(epochs, Accuracy, marker='o', linestyle='-')\n",
        "plt.xlabel('Epochs')\n",
        "plt.ylabel('Accuracy')\n",
        "plt.title('Training Accuracy over Epochs')\n",
        "plt.grid(True)\n",
        "plt.show()"
      ],
      "metadata": {
        "colab": {
          "base_uri": "https://localhost:8080/",
          "height": 472
        },
        "id": "086lbhssIK4F",
        "outputId": "df653fdd-558e-4774-b148-1817950e6924"
      },
      "execution_count": 108,
      "outputs": [
        {
          "output_type": "display_data",
          "data": {
            "text/plain": [
              "<Figure size 640x480 with 1 Axes>"
            ],
            "image/png": "[encoded data removed]"
          },
          "metadata": {}
        }
      ]
    },
    {
      "cell_type": "code",
      "source": [
        "model.evaluate(testing_data)"
      ],
      "metadata": {
        "id": "E-ai0XJTkdI3",
        "colab": {
          "base_uri": "https://localhost:8080/"
        },
        "outputId": "e7139d46-0712-47a2-93d4-d22370f07717"
      },
      "execution_count": 109,
      "outputs": [
        {
          "output_type": "stream",
          "name": "stdout",
          "text": [
            "\u001b[1m5/5\u001b[0m \u001b[32m━━━━━━━━━━━━━━━━━━━━\u001b[0m\u001b[37m\u001b[0m \u001b[1m10s\u001b[0m 2s/step - accuracy: 0.9992 - loss: 0.0048\n"
          ]
        },
        {
          "output_type": "execute_result",
          "data": {
            "text/plain": [
              "[0.005506532732397318, 0.9983498454093933]"
            ]
          },
          "metadata": {},
          "execution_count": 109
        }
      ]
    },
    {
      "cell_type": "code",
      "source": [
        "model.predict(testing_data).reshape(-1)"
      ],
      "metadata": {
        "colab": {
          "base_uri": "https://localhost:8080/"
        },
        "id": "Ry0-mbwuTs16",
        "outputId": "b57dfb41-6062-4f37-9890-625175b093a2"
      },
      "execution_count": 110,
      "outputs": [
        {
          "output_type": "stream",
          "name": "stdout",
          "text": [
            "\u001b[1m4/5\u001b[0m \u001b[32m━━━━━━━━━━━━━━━━\u001b[0m\u001b[37m━━━━\u001b[0m \u001b[1m1s\u001b[0m 2s/step"
          ]
        },
        {
          "output_type": "stream",
          "name": "stderr",
          "text": [
            "WARNING:tensorflow:5 out of the last 16 calls to <function TensorFlowTrainer.make_predict_function.<locals>.one_step_on_data_distributed at 0x7a86e25db9c0> triggered tf.function retracing. Tracing is expensive and the excessive number of tracings could be due to (1) creating @tf.function repeatedly in a loop, (2) passing tensors with different shapes, (3) passing Python objects instead of tensors. For (1), please define your @tf.function outside of the loop. For (2), @tf.function has reduce_retracing=True option that can avoid unnecessary retracing. For (3), please refer to https://www.tensorflow.org/guide/function#controlling_retracing and https://www.tensorflow.org/api_docs/python/tf/function for  more details.\n"
          ]
        },
        {
          "output_type": "stream",
          "name": "stdout",
          "text": [
            "\u001b[1m5/5\u001b[0m \u001b[32m━━━━━━━━━━━━━━━━━━━━\u001b[0m\u001b[37m\u001b[0m \u001b[1m9s\u001b[0m 2s/step\n"
          ]
        },
        {
          "output_type": "execute_result",
          "data": {
            "text/plain": [
              "array([2.84393464e-04, 9.99962211e-01, 9.99912381e-01, 5.18839691e-08,\n",
              "       2.01344648e-08, 9.77434684e-04, 2.69037700e-05, 2.61510877e-06,\n",
              "       9.99777615e-01, 2.47607144e-08, 9.99999642e-01, 2.14124398e-07,\n",
              "       9.98471797e-01, 9.99481738e-01, 1.94563915e-03, 4.38007497e-08,\n",
              "       9.99818385e-01, 1.99023849e-13, 1.00000000e+00, 5.47340923e-11,\n",
              "       4.09770053e-07, 1.11814086e-06, 1.00000000e+00, 6.51418874e-09,\n",
              "       9.99999523e-01, 9.99874711e-01, 9.99952555e-01, 5.78267993e-08,\n",
              "       9.99889135e-01, 9.99998331e-01, 1.86743023e-07, 9.99991298e-01,\n",
              "       9.99992251e-01, 9.74552989e-01, 1.42733887e-08, 9.98875201e-01,\n",
              "       1.00000000e+00, 4.75472352e-03, 9.99753654e-01, 9.99958038e-01,\n",
              "       1.29792711e-03, 1.00000000e+00, 1.15836167e-06, 1.88805402e-07,\n",
              "       1.05633851e-04, 8.63700184e-15, 9.99967217e-01, 1.08390883e-01,\n",
              "       9.99997854e-01, 9.99989033e-01, 2.41824779e-07, 2.66264288e-10,\n",
              "       2.82164747e-05, 9.99222159e-01, 9.99939322e-01, 6.02106156e-05,\n",
              "       3.37725616e-08, 3.69020796e-08, 5.28598996e-03, 9.99999881e-01,\n",
              "       5.71164674e-05, 9.46953005e-05, 9.99999762e-01, 9.99769509e-01,\n",
              "       1.00000000e+00, 9.99998927e-01, 9.98597205e-01, 1.35355376e-05,\n",
              "       1.50281949e-07, 9.99927998e-01, 9.99973774e-01, 1.15043244e-04,\n",
              "       9.96382236e-01, 1.55015755e-03, 9.99610484e-01, 9.99963760e-01,\n",
              "       9.99989867e-01, 9.99812067e-01, 9.99974489e-01, 3.78042430e-04,\n",
              "       3.74173574e-11, 9.99999642e-01, 9.91652310e-01, 5.72411518e-04,\n",
              "       9.99988079e-01, 5.39539874e-01, 9.98692214e-01, 9.99999881e-01,\n",
              "       1.00000000e+00, 5.90002855e-05, 5.17550133e-15, 9.99998331e-01,\n",
              "       9.99437749e-01, 9.99998093e-01, 5.06848423e-03, 9.99974012e-01,\n",
              "       2.08002825e-06, 3.63232604e-11, 9.75359201e-01, 4.60376141e-05,\n",
              "       8.05246062e-04, 9.99858737e-01, 1.11137488e-04, 7.99850702e-01,\n",
              "       9.99942780e-01, 1.58756012e-11, 9.99876618e-01, 2.54195101e-07,\n",
              "       9.99975324e-01, 3.22459778e-06, 1.12027443e-10, 3.76953394e-03,\n",
              "       9.99999881e-01, 1.31653773e-03, 9.99809206e-01, 9.99999881e-01,\n",
              "       5.39594453e-07, 9.99994159e-01, 9.99976397e-01, 9.99790728e-01,\n",
              "       2.26424658e-04, 1.79183689e-06, 9.99980927e-01, 1.00759110e-06,\n",
              "       9.99602258e-01, 4.94703784e-07, 5.27322527e-07, 2.57575645e-13,\n",
              "       4.47084822e-05, 9.99745429e-01, 6.09978393e-04, 9.40661096e-08,\n",
              "       2.83450627e-05, 6.77495223e-07, 9.99998331e-01, 1.96076420e-04,\n",
              "       1.62680622e-03, 9.99946117e-01, 3.99849159e-05, 9.99951482e-01,\n",
              "       9.99999881e-01, 9.99915004e-01, 1.00000000e+00, 1.74569639e-08,\n",
              "       5.84305126e-05, 4.96473040e-05, 4.98422235e-03, 1.17968395e-03,\n",
              "       9.40065026e-01, 1.10626456e-06, 9.99994636e-01, 9.95641589e-01,\n",
              "       1.96055976e-06, 9.99948502e-01, 9.99652147e-01, 1.00000000e+00,\n",
              "       9.99777615e-01, 4.80221137e-15, 9.99955058e-01, 9.99983430e-01,\n",
              "       9.99996424e-01, 2.95264355e-04, 9.99982238e-01, 1.10201999e-08,\n",
              "       9.52151954e-01, 8.70424812e-14, 3.24985278e-19, 9.99881864e-01,\n",
              "       9.99998331e-01, 1.04655248e-06, 1.00000000e+00, 9.99953270e-01,\n",
              "       9.99355495e-01, 9.99995351e-01, 1.12571490e-06, 9.96832669e-01,\n",
              "       9.84552145e-01, 9.98899460e-01, 9.99823034e-01, 9.98186171e-01,\n",
              "       5.43735496e-06, 9.96960044e-01, 1.10972508e-06, 9.99907017e-01,\n",
              "       5.76225211e-05, 1.00000000e+00, 9.99665737e-01, 4.32793695e-06,\n",
              "       9.99999881e-01, 9.99992490e-01, 9.99277771e-01, 3.66579976e-13,\n",
              "       1.00000000e+00, 2.73887579e-11, 9.99976873e-01, 1.31370712e-07,\n",
              "       9.99999881e-01, 9.99688387e-01, 2.67106475e-06, 2.17190495e-06,\n",
              "       2.63135368e-03, 1.00000000e+00, 9.99997854e-01, 9.33710851e-07,\n",
              "       1.92012308e-08, 1.33562852e-02, 5.78779975e-07, 8.24655755e-04,\n",
              "       9.99939442e-01, 9.99619603e-01, 1.75000017e-03, 3.16789715e-06,\n",
              "       9.99995112e-01, 9.99981761e-01, 9.99997377e-01, 9.99997854e-01,\n",
              "       9.99652743e-01, 1.00000000e+00, 9.99994159e-01, 9.99997973e-01,\n",
              "       9.98434007e-01, 9.99997020e-01, 9.99985814e-01, 7.12653261e-08,\n",
              "       2.90700992e-08, 1.25543651e-12, 9.92295921e-01, 5.48351399e-11,\n",
              "       9.99999523e-01, 1.58441508e-05, 4.36664899e-10, 9.99370873e-01,\n",
              "       9.99999881e-01, 1.00000000e+00, 1.19481236e-09, 9.99999642e-01,\n",
              "       1.91842832e-06, 2.56371102e-15, 9.99999881e-01, 1.26998217e-04,\n",
              "       9.99934793e-01, 1.42206885e-02, 9.99399662e-01, 9.95733202e-01,\n",
              "       1.00000000e+00, 9.99629498e-01, 3.24782130e-04, 9.99498725e-01,\n",
              "       4.61812590e-07, 3.48928691e-10, 5.39874018e-05, 1.36354665e-15,\n",
              "       2.98741924e-07, 9.99880075e-01, 4.04818320e-06, 1.60928834e-02,\n",
              "       2.00498494e-06, 9.99999881e-01, 3.92117386e-07, 1.23389400e-04,\n",
              "       3.82946208e-02, 9.91965413e-01, 2.41324127e-01, 1.00000000e+00,\n",
              "       1.56210186e-02, 1.94429163e-06, 2.11641876e-07, 2.50127487e-05,\n",
              "       9.99969482e-01, 7.50008179e-03, 2.85470207e-11, 9.99997377e-01,\n",
              "       1.96818428e-06, 4.82107900e-08, 5.22519185e-05, 3.11439953e-06,\n",
              "       9.99998569e-01, 9.99794781e-01, 9.99997497e-01, 1.19281538e-07,\n",
              "       9.99998331e-01, 3.14806410e-11, 9.99993920e-01, 9.99983907e-01,\n",
              "       9.99314189e-01, 5.16216236e-11, 9.99805748e-01, 9.99965906e-01,\n",
              "       9.99999881e-01, 1.86018880e-07, 9.99999642e-01, 9.99981642e-01,\n",
              "       4.94925962e-06, 9.86316445e-11, 3.16789715e-06, 9.99997854e-01,\n",
              "       4.73787587e-09, 2.77886993e-05, 9.99989390e-01, 1.00000000e+00,\n",
              "       9.74048734e-01, 9.99961257e-01, 9.99993682e-01, 8.05491425e-08,\n",
              "       8.12831225e-09, 2.85374226e-05, 9.84462531e-07, 9.99539256e-01,\n",
              "       1.99239225e-09, 7.63446110e-07, 9.99669075e-01, 7.78650156e-06,\n",
              "       9.99906540e-01, 3.28382384e-07, 1.32724495e-06, 1.00000000e+00,\n",
              "       9.99964476e-01, 9.98469770e-01, 7.48124965e-11, 2.76300597e-07,\n",
              "       8.66921328e-05, 2.47594662e-17, 2.58253468e-03, 1.00971684e-08,\n",
              "       9.99787748e-01, 9.99206841e-01, 9.98972178e-01, 8.18255576e-05,\n",
              "       9.99961019e-01, 9.99999166e-01, 9.98531938e-01, 3.92936468e-02,\n",
              "       9.99996662e-01, 1.07068324e-03, 2.96645055e-07, 9.99996424e-01,\n",
              "       1.04442074e-06, 5.21301535e-09, 6.78008227e-09, 9.90586340e-01,\n",
              "       1.41986993e-06, 9.99979973e-01, 2.21041918e-01, 1.28090119e-06,\n",
              "       1.32294565e-06, 9.99553382e-01, 6.27000336e-05, 4.24964279e-02,\n",
              "       3.70145484e-04, 9.99999762e-01, 9.99762714e-01, 1.15815783e-05,\n",
              "       9.99954820e-01, 2.77886993e-05, 9.99999642e-01, 1.62571925e-03,\n",
              "       2.04602946e-10, 9.91621852e-01, 9.99994636e-01, 1.78154735e-07,\n",
              "       1.00000000e+00, 9.99999881e-01, 9.99970794e-01, 6.23672634e-07,\n",
              "       1.00000000e+00, 5.33645321e-03, 9.99984741e-01, 9.99931574e-01,\n",
              "       7.81977069e-05, 9.99661207e-01, 1.00256647e-08, 1.00000000e+00,\n",
              "       1.00000000e+00, 7.72084594e-01, 9.99999762e-01, 9.99999762e-01,\n",
              "       9.99997854e-01, 9.99997973e-01, 4.49524826e-08, 9.78187891e-04,\n",
              "       9.99995351e-01, 9.99999166e-01, 9.99992013e-01, 2.21931167e-08,\n",
              "       4.83314034e-06, 6.58612605e-03, 9.99951720e-01, 9.99972582e-01,\n",
              "       9.99817789e-01, 9.99998093e-01, 9.99973774e-01, 9.99993801e-01,\n",
              "       3.03743981e-08, 9.99987960e-01, 7.65425612e-10, 2.22533998e-07,\n",
              "       1.11814086e-06, 7.84599337e-08, 1.00000000e+00, 9.63932143e-06,\n",
              "       9.99984145e-01, 9.98422146e-01, 8.54124482e-06, 4.90954146e-03,\n",
              "       6.14537488e-09, 2.03526695e-04, 9.99993801e-01, 9.99936819e-01,\n",
              "       2.36788710e-05, 9.99633193e-01, 9.99992371e-01, 4.52846311e-13,\n",
              "       9.99995708e-01, 9.99997139e-01, 2.82130799e-08, 1.00000000e+00,\n",
              "       9.99006808e-01, 8.60893579e-09, 2.88504776e-08, 9.99947906e-01,\n",
              "       9.99943018e-01, 9.99999404e-01, 9.99992251e-01, 1.01234413e-14,\n",
              "       6.18510664e-01, 2.37568838e-05, 9.99968410e-01, 9.99986887e-01,\n",
              "       1.83271568e-05, 9.99997973e-01, 9.99832749e-01, 1.72609138e-09,\n",
              "       9.99837637e-01, 5.93052052e-10, 2.82136980e-10, 2.84706197e-15,\n",
              "       1.77702850e-06, 9.99806464e-01, 6.30017460e-09, 9.99849319e-01,\n",
              "       2.86107027e-10, 1.74703064e-06, 2.27509940e-06, 1.72420278e-05,\n",
              "       9.99988556e-01, 9.99746144e-01, 1.91632584e-02, 8.20426794e-06,\n",
              "       9.99971032e-01, 9.99999642e-01, 9.99971747e-01, 9.99893069e-01,\n",
              "       1.68180350e-08, 1.94087519e-08, 9.99580324e-01, 9.99855280e-01,\n",
              "       4.44035209e-08, 4.57489252e-04, 5.96526263e-07, 9.99996662e-01,\n",
              "       9.99967813e-01, 9.99997258e-01, 1.94307814e-09, 9.99136269e-01,\n",
              "       1.67714991e-03, 9.94095445e-01, 9.99995232e-01, 3.43878415e-09,\n",
              "       2.42427745e-06, 9.99777615e-01, 6.44810143e-06, 1.39850940e-08,\n",
              "       9.98923481e-01, 2.75496518e-07, 9.28839326e-01, 9.99918103e-01,\n",
              "       9.35182921e-13, 9.99999881e-01, 4.82276169e-04, 1.00000000e+00,\n",
              "       1.60652562e-05, 5.37373626e-06, 9.94140446e-01, 1.05821800e-05,\n",
              "       1.34038891e-10, 9.99998689e-01, 1.44754983e-06, 6.37262065e-06,\n",
              "       3.16684345e-10, 6.52306171e-14, 9.99655843e-01, 9.99999642e-01,\n",
              "       1.00000000e+00, 9.97066557e-01, 1.00000000e+00, 3.70399371e-12,\n",
              "       9.99999166e-01, 5.40926567e-06, 1.77580491e-03, 9.99998331e-01,\n",
              "       1.00000000e+00, 9.99584973e-01, 2.69933048e-06, 5.69772940e-09,\n",
              "       8.03952207e-05, 9.77477157e-06, 1.10972508e-06, 9.99999762e-01,\n",
              "       4.85269538e-06, 2.32848041e-02, 1.00000000e+00, 1.00000000e+00,\n",
              "       2.12010206e-03, 9.99871135e-01, 6.72945613e-03, 1.85466444e-04,\n",
              "       9.99958992e-01, 2.20455186e-04, 9.99451101e-01, 9.99972582e-01,\n",
              "       1.98393303e-04, 2.11455151e-14, 1.54314665e-04, 1.00000000e+00,\n",
              "       1.52606275e-02, 3.48863836e-08, 9.99210238e-01, 9.99999762e-01,\n",
              "       9.99401331e-01, 9.99978662e-01, 1.00000000e+00, 9.99588430e-01,\n",
              "       9.99984145e-01, 6.40105918e-06, 9.99799430e-01, 9.99941111e-01,\n",
              "       9.70462521e-14, 2.47111515e-04, 2.37124295e-05, 1.54789731e-07,\n",
              "       1.10533867e-21, 1.22867711e-01, 1.19185235e-11, 2.03559424e-07,\n",
              "       9.99969482e-01, 9.99999523e-01, 5.32539655e-03, 1.01532947e-07,\n",
              "       5.47843015e-08, 1.01380701e-05, 3.93615162e-04, 9.99971867e-01,\n",
              "       9.99984741e-01, 1.00000000e+00, 9.99998689e-01, 9.99943495e-01,\n",
              "       9.99999166e-01, 3.55700429e-08, 9.99997497e-01, 9.55431819e-01,\n",
              "       4.36664899e-10, 1.17916204e-06, 3.98982193e-05, 3.92117386e-07,\n",
              "       1.70748281e-05, 6.44364277e-08, 9.99904156e-01, 9.99959350e-01,\n",
              "       1.00000000e+00, 9.99782503e-01, 2.92500789e-12, 9.99993801e-01,\n",
              "       1.00000000e+00, 1.77580491e-03, 9.99286473e-01, 9.99952435e-01,\n",
              "       6.37262065e-06, 9.99954820e-01, 9.76112604e-01, 4.44035209e-08,\n",
              "       9.99850392e-01, 9.23157089e-08, 9.46599903e-06, 4.43040604e-11,\n",
              "       1.19335773e-05, 9.99753416e-01, 1.60278420e-12, 6.05712014e-09,\n",
              "       7.75013687e-05, 9.99987483e-01, 9.99812186e-01, 9.99989748e-01,\n",
              "       9.99897361e-01, 1.21112995e-10, 9.99994397e-01, 8.97541363e-03,\n",
              "       9.99998927e-01, 1.50396517e-09, 2.23512131e-07, 6.82887112e-05,\n",
              "       1.20886030e-08, 1.00000000e+00, 5.60741864e-06, 2.86350388e-11,\n",
              "       9.86489415e-01, 9.99997854e-01], dtype=float32)"
            ]
          },
          "metadata": {},
          "execution_count": 110
        }
      ]
    },
    {
      "cell_type": "code",
      "source": [
        "model.save('MonReader.h5')"
      ],
      "metadata": {
        "colab": {
          "base_uri": "https://localhost:8080/"
        },
        "id": "xE6HeoSGEIUK",
        "outputId": "69838e33-4fa8-4626-a9ba-b5a3e475c220"
      },
      "execution_count": 111,
      "outputs": [
        {
          "output_type": "stream",
          "name": "stderr",
          "text": [
            "WARNING:absl:You are saving your model as an HDF5 file via `model.save()` or `keras.saving.save_model(model)`. This file format is considered legacy. We recommend using instead the native Keras format, e.g. `model.save('my_model.keras')` or `keras.saving.save_model(model, 'my_model.keras')`. \n"
          ]
        }
      ]
    }
  ]
}